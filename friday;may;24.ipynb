{
 "cells": [
  {
   "cell_type": "markdown",
   "id": "8f94aac1",
   "metadata": {},
   "source": [
    "# this is comment"
   ]
  },
  {
   "cell_type": "code",
   "execution_count": 2,
   "id": "51f34c92",
   "metadata": {},
   "outputs": [
    {
     "name": "stdout",
     "output_type": "stream",
     "text": [
      "hello kabeerah!\n"
     ]
    }
   ],
   "source": [
    "print ('hello kabeerah!')"
   ]
  },
  {
   "cell_type": "markdown",
   "id": "c3a5c214",
   "metadata": {},
   "source": [
    "# this is the largest\n",
    "## this is the second largest"
   ]
  },
  {
   "cell_type": "code",
   "execution_count": null,
   "id": "664acc13",
   "metadata": {},
   "outputs": [],
   "source": []
  }
 ],
 "metadata": {
  "kernelspec": {
   "display_name": "Python 3 (ipykernel)",
   "language": "python",
   "name": "python3"
  },
  "language_info": {
   "codemirror_mode": {
    "name": "ipython",
    "version": 3
   },
   "file_extension": ".py",
   "mimetype": "text/x-python",
   "name": "python",
   "nbconvert_exporter": "python",
   "pygments_lexer": "ipython3",
   "version": "3.11.5"
  }
 },
 "nbformat": 4,
 "nbformat_minor": 5
}
